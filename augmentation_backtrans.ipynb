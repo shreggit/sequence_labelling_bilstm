{
 "cells": [
  {
   "cell_type": "code",
   "execution_count": 1,
   "id": "089b9fa3",
   "metadata": {},
   "outputs": [],
   "source": [
    "import json\n",
    "import nltk\n",
    "import random\n",
    "from nltk.tokenize import word_tokenize\n",
    "from nltk.corpus import wordnet"
   ]
  },
  {
   "cell_type": "code",
   "execution_count": 2,
   "id": "21c3631d",
   "metadata": {},
   "outputs": [],
   "source": [
    "with open('data/Taxes & Duties annotations.json', 'r', encoding='utf-8') as f:\n",
    "    lines = json.load(f)"
   ]
  },
  {
   "cell_type": "code",
   "execution_count": 3,
   "id": "ba346b81",
   "metadata": {},
   "outputs": [],
   "source": [
    "contexts = []\n",
    "for line in lines:\n",
    "    annotation = line['annotations']\n",
    "    for annot in annotation:\n",
    "        result = annot['result']\n",
    "        for res in result:\n",
    "            labels = res['value']['labels']\n",
    "            if labels[0] == \"Who is responsible for paying taxes?\":\n",
    "                context = line['data']['text']\n",
    "                contexts.append(context)"
   ]
  },
  {
   "cell_type": "code",
   "execution_count": 4,
   "id": "9944628f",
   "metadata": {},
   "outputs": [
    {
     "name": "stdout",
     "output_type": "stream",
     "text": [
      "86\n"
     ]
    }
   ],
   "source": [
    "print(len(contexts))"
   ]
  },
  {
   "cell_type": "code",
   "execution_count": 10,
   "id": "0dd18868",
   "metadata": {},
   "outputs": [],
   "source": [
    "def get_wordnet_pos(pos_tag):\n",
    "    if pos_tag.startswith('J'):\n",
    "        return wordnet.ADJ\n",
    "    if pos_tag.startswith('V'):\n",
    "        return wordnet.VERB\n",
    "    if pos_tag.startswith('N'):\n",
    "        return wordnet.NOUN\n",
    "    if pos_tag.startswith('R'):\n",
    "        return wordnet.ADV\n",
    "    else:\n",
    "        return wordnet.NOUN"
   ]
  },
  {
   "cell_type": "code",
   "execution_count": 5,
   "id": "b28fc121",
   "metadata": {},
   "outputs": [],
   "source": [
    "def rephrase(text):\n",
    "    tokens = word_tokenize(text)\n",
    "    tagged = nltk.pos_tag(tokens)\n",
    "    synsets = []\n",
    "    for token, pos in tagged:\n",
    "        token_synsets = wordnet.synsets(token, pos=get_wordnet_pos(pos))\n",
    "        if token_synsets:\n",
    "            synsets.append(token_synsets[0])\n",
    "    lemmas = [random.choice(synset.lemmas()).name() for synset in synsets]\n",
    "    return ' '.join(lemmas)"
   ]
  },
  {
   "cell_type": "code",
   "execution_count": 27,
   "id": "df7a85a9",
   "metadata": {},
   "outputs": [],
   "source": [
    "def paraphrase(text):\n",
    "    synonyms_dict = {}\n",
    "    tokens = word_tokenize(text)\n",
    "    for token in tokens:\n",
    "        synsets = wordnet.synsets(token)\n",
    "        if synsets:\n",
    "            synonyms = [synset.lemmas()[0].name() for synset in synsets]\n",
    "            if len(synonyms) > 1:\n",
    "                 synonym_dict[token] = random.choice(synonyms)\n",
    "    for token, replacement in synonym_dict.items():\n",
    "        text = text.replace(token, replacement)\n",
    "    return text     "
   ]
  },
  {
   "cell_type": "code",
   "execution_count": 6,
   "id": "6efa4716",
   "metadata": {},
   "outputs": [
    {
     "name": "stdout",
     "output_type": "stream",
     "text": [
      "Article 17 Defects Liability 17.1 Defects Liability Period (i) The Contractor shall be responsible for all the Defects and deficiencies, except usual wear and tear in the Project Highway or any Section thereof, till the expiry of a period of commencing from the date of Completion Certificate (the “Defects Liability Period”) as specified below: (a) 5 (five) years from the date of completion in case of a road being constructed with flexible pavement; (b) 10 (ten) years from the date of completion in case of road being constructed with rigid pavement; (c) 10 (ten) years from the date of completion in case of road being constructed with flexible pavement using perpetual design; (d) 10 (ten) years from the date of completion in case of all stand-alone structures, e.g. Major Bridges/ and Tunnels; (e) 10 (ten) years from the date of completion for the stretches where new technology/ material has been/ is proposed to be used. (f) 3 (three) years from the date of completion for stretches requiring renewal of Bituminous Concrete (BC) layer through either using hot-in-place recycling of the entire BC layer or providing a fresh layer of BC with 40mm thickness. (g) 3 (three) years from the date of completion for stretches requiring improvement to riding quality, in cases other than those mentioned in para (f) above, through laying a layer of BM/DBM and BC. The Defects Liability Period shall commence from the date of the Completion Certificate. For the avoidance of any doubt, any repairs or restoration because of usual wear or tear in the Project Highway or any Section thereof shall form a part of the Maintenance obligations of the Contractor as specified in Article 14. 17.2 Remedying Defects Save and except as provided in Clause 14.1 (iii), the Contractor shall repair or rectify all Defects and deficiencies observed by the Authority or Authority’s Engineer during the Defects Liability Period within a period of 15 (fifteen) days from the date of notice issued by the Authority or Authority’s Engineer in this behalf, or within such reasonable period as may be determined by the Authority or Authority’s Engineer at the request of the Contractor, in accordance with Good Industry Practice. 78 17.3 Cost of remedying Defects Any repair or rectification undertaken in accordance with the provisions of Clause 17.2, including any additional testing, shall be carried out by the Contractor at its own risk and cost, to the extent that such rectification or repair is attributable to: (a) the design of the Project; (b) Plant, Materials or workmanship not being in accordance with this Agreement and the Specifications and Standards; (c) improper maintenance during construction of the Project Highway by the Contractor; and/ or (d) failure by the Contractor to comply with any other obligation under this Agreement. 17.4 Contractor’s failure to rectify Defects If the Contractor fails to repair or rectify such Defect or deficiency within the period specified in Clause 17.2, the Authority shall be entitled to get the same repaired, rectified or remedied at the Contractor’s cost to make the Project Highway conform to the Specifications and Standards and the provisions of this Agreement. All costs consequent thereon shall, after due consultation with the Authority and the Contractor, be determined by the Authority’s Engineer. The cost so determined and an amount equal to 20% (twenty percent) of the cost as Damages shall be recoverable by the Authority from the Contractor and may be deducted by the Authority from any monies due to the Contractor. 17.5 Extension of Defects Liability Period The Defects Liability Period shall be deemed to be extended till the identified Defects under Clause 17.2 have been remedied or rectified.\n"
     ]
    }
   ],
   "source": [
    "print(contexts[3])"
   ]
  },
  {
   "cell_type": "code",
   "execution_count": 29,
   "id": "ea03b9f1",
   "metadata": {
    "scrolled": true
   },
   "outputs": [
    {
     "name": "stdout",
     "output_type": "stream",
     "text": [
      "hold neutralise redress arsenic emptor sole exclusive redress labor neglect attain labor pass_completion Oregon day_of_the_month seller volition pay buyer damages X arsenic vendee sole exclusive remedy labor fail attain completion Beaver_State day_of_the_month marketer will pay purchaser redress X\n"
     ]
    }
   ],
   "source": [
    "rephrased_text = rephrase(contexts[2])\n",
    "print(rephrased_text)"
   ]
  },
  {
   "cell_type": "code",
   "execution_count": 4,
   "id": "8b9326d0",
   "metadata": {},
   "outputs": [],
   "source": [
    "# from googletrans import Translator\n",
    "# from nltk.tokenize import sent_tokenize\n",
    "# def backtrans(text, lang):\n",
    "#     translator = Translator()\n",
    "#     sent_text = sent_tokenize(text)\n",
    "#     full_trans_text = \"\"\n",
    "#     for sent in sent_text:\n",
    "#         translated = translator.translate(sent, dest = lang).text\n",
    "#         back_translated = translator.translate(translated, src=lang, dest='en').text\n",
    "#         full_trans_text += \" \"+back_translated\n",
    "#     return full_trans_text"
   ]
  },
  {
   "cell_type": "code",
   "execution_count": 5,
   "id": "7d1caa4d",
   "metadata": {
    "scrolled": true
   },
   "outputs": [],
   "source": [
    "from os import environ\n",
    "from google.cloud import translate_v2\n",
    "from nltk.tokenize import sent_tokenize\n",
    "\n",
    "environ['GOOGLE_APPLICATION_CREDENTIALS'] = r\"Backtrans_Aug_LD/google_translate_key.json\"\n",
    "translate_client = translate_v2.Client()\n",
    "def backtrans(text, lang):\n",
    "    sent_text = sent_tokenize(text)\n",
    "    full_trans_text = \"\"\n",
    "    for sent in sent_text:\n",
    "        translated = translate_client.translate(sent, target_language = lang)\n",
    "        back_translated = translate_client.translate(translated['translatedText'], target_language ='en')\n",
    "        full_trans_text += \" \"+back_translated['translatedText']\n",
    "    return full_trans_text"
   ]
  },
  {
   "cell_type": "code",
   "execution_count": 8,
   "id": "837161e6",
   "metadata": {},
   "outputs": [
    {
     "name": "stdout",
     "output_type": "stream",
     "text": [
      " What is the withholding amount?\n"
     ]
    }
   ],
   "source": [
    "query = \"What is the amount for retention money?\"\n",
    "back_trans_query = backtrans(query, 'it')\n",
    "print(back_trans_query)"
   ]
  },
  {
   "cell_type": "code",
   "execution_count": 6,
   "id": "63e1b7ee",
   "metadata": {
    "scrolled": true
   },
   "outputs": [
    {
     "name": "stdout",
     "output_type": "stream",
     "text": [
      "1\n",
      "2\n",
      "3\n",
      "4\n",
      "5\n",
      "6\n",
      "7\n",
      "8\n",
      "9\n",
      "10\n",
      "11\n",
      "12\n",
      "13\n",
      "14\n",
      "15\n",
      "16\n",
      "17\n",
      "18\n",
      "19\n",
      "20\n",
      "21\n",
      "22\n",
      "23\n",
      "24\n",
      "25\n",
      "26\n",
      "27\n",
      "28\n",
      "29\n",
      "30\n",
      "31\n",
      "32\n",
      "33\n",
      "34\n",
      "35\n",
      "36\n",
      "37\n",
      "38\n",
      "39\n",
      "40\n",
      "41\n",
      "42\n",
      "43\n",
      "44\n",
      "45\n",
      "46\n",
      "47\n",
      "48\n",
      "49\n",
      "50\n",
      "51\n",
      "52\n",
      "53\n",
      "54\n",
      "55\n",
      "56\n",
      "57\n",
      "58\n",
      "59\n",
      "60\n",
      "61\n",
      "62\n",
      "63\n",
      "64\n",
      "65\n",
      "66\n",
      "67\n",
      "68\n",
      "69\n",
      "70\n",
      "71\n",
      "72\n",
      "73\n",
      "74\n",
      "75\n",
      "76\n",
      "77\n",
      "78\n",
      "79\n",
      "80\n",
      "81\n",
      "82\n",
      "83\n",
      "84\n",
      "85\n",
      "86\n"
     ]
    }
   ],
   "source": [
    "final_context = []\n",
    "i = 0 \n",
    "for context in contexts:\n",
    "    back_trans_text = backtrans(context, 'it')\n",
    "    final_context.append(back_trans_text)\n",
    "    i += 1\n",
    "    print(i)"
   ]
  },
  {
   "cell_type": "code",
   "execution_count": 7,
   "id": "a972e676",
   "metadata": {},
   "outputs": [],
   "source": [
    "i = 0\n",
    "for cont in final_context:\n",
    "    f = open('taxes_duties/aug_data/ITALIAN/taxes_duties_it_backtrans '+str(i)+'.txt','w', encoding='utf-8')\n",
    "    f.write(cont)\n",
    "    i += 1"
   ]
  },
  {
   "cell_type": "code",
   "execution_count": 9,
   "id": "1b76d202",
   "metadata": {},
   "outputs": [
    {
     "name": "stdout",
     "output_type": "stream",
     "text": [
      " CLAUSE-3: PERFORMANCE BONUS: 3.1 The deposit shall consist of: (ii) Reservations to be recovered from the contractor&#39;s running account invoice. 3.2 The contractor must pay a performance bond equivalent to 2% of the contract amount within 30 days from the date of successful bidding, including additional deposits for prepaid bidding or bidding for undervalued items. Later in the term of the contract, it must be executed in one of the following formats: or (b) a bank guarantee from a nationalized/scheduled bank of India acceptable to the employer in the prescribed form. 3.3 Retention shall be deducted from the contractor&#39;s temporary invoice as a deposit of 3% (3%) of the total amount of each invoice for work performed (including price fluctuations). 3.4 If the Contractor expressly requests in writing, the Contractor may convert the reserve amount deducted from the provisional bill into a bank guarantee in the prescribed form. 3.5 Any compensation or other sums payable by the Contractor to the Employer under the terms of this or any other contract may be deducted from the deposit. In addition, if the contractor&#39;s deposit is reduced due to the reasons for the above deduction, the contractor must make up for the shortfall within 14 days from the date of receiving the notice of demand from the engineer in charge. deposit. 3.6 If the period of validity of a bank guarantee, which may be provided from time to time by the Contractor, is to be extended/renewed, the Contractor shall ensure that the validity period of such guarantee occurs in accordance with the Contract. This is extended/renewed and provided to the responsible engineer one (1) month prior to the expiration date of the above warranty originally provided and the responsible engineer shall invoke it if the existing bank guarantee fails. In addition, in the event that a securities deficit occurs or is recognized in any account, the contractor must immediately collect/replace it with an acceptable deposit. 3.7 The foregoing bank guarantee is valid until 30 days after the expiry date of the contractual liability period for defects (Clause 43). If the winning contractor&#39;s bid is paid in advance (e.g. Items executed in the earlier part of the construction period may be quoted at a higher or lower rate to be executed in the later part of the contract period) Regarding the Owner&#39;s estimated rates for such items, the Owner may require the Subcontractor to submit. Additional performance guarantees in the form specified above to a level sufficient to protect against financial loss in case of default by the successful contractor under the contract. The amount of the increased performance guarantee shall be determined at the employer&#39;s sole discretion, which shall be final, binding and conclusive to the contractor. A bank guarantee for additional performance guarantees is valid until the time of completion of the work within the scope of the contract. 3.8 Deposit waivers shall be considered to the extent that MSE units are registered with NSIC under NSIC&#39;s single point registration scheme.\n"
     ]
    }
   ],
   "source": [
    "print(final_context[3])"
   ]
  },
  {
   "cell_type": "code",
   "execution_count": 41,
   "id": "eca3bf48",
   "metadata": {},
   "outputs": [
    {
     "name": "stdout",
     "output_type": "stream",
     "text": [
      " Article 13 Delay Damages and Bonuses 13.1 Delay Damages. If it occurs after the date of substantial completion on which substantial completion was guaranteed, Contractor shall pay the amount set forth in Exhibit T for each day or portion of the delay until substantial completion occurs. shall be paid to the owner per day (“Late Damages”). 13.2 LNG Production Bonus and First Cargo Bonus A. LNG Production Bonus 1. If substantial completion occurs within *** (***) days from the date of assurance of substantial completion, the owner shall pay a bonus amount to the contractor. will do. (i) *** (US$** *) to one of our customers before the LNG production bonus date. The maximum LNG production bonus payable to a contractor pursuant to this Section 13.2A shall be *** US Dollar (US$***). 2. “LNG Production Bonus Date” is *** (***) days after NTP issuance. 3. For the avoidance of doubt, Contractor shall not be entitled to LNG Production Bonuses on LNG that is boiled off or vaporized and sold to the U.S. market as natural gas. The LNG production bonus dates shall be adjusted solely at the discretion of Cheniere&#39;s Chief Executive Officer, and such adjustments shall be effected by change order. Contractor acknowledges that this Section 13.2A does not impose an obligation on Owner to sell LNG to Customer. B. First Cargo Bonus 1. If the First Cargo occurs on or before the First Cargo Bonus Date, the Owner shall pay the Contractor a bonus of *** USD. Dollars (US$***) (“First Freight Bonus”). If the first shipment occurs after the First Freight Bonus Date but before the guaranteed Substantial Completion Date, the Owner shall pay the Contractor a First Freight Bonus of *** USD. Dollar (US$***) Minus *** US Dollars (US$***) per day after the first freight bonus day on which the first freight occurs. So, for example, if the first shipment occurs two days after the first shipment bonus date, the first shipment bonus is *** US Dollars (US$***), or if the first shipment occurs *** (***) Days after the first shipment bonus date, the first shipment bonus is *** US Dollar (US$***). If the First Shipment occurs after the Substantial Guaranteed Completion Date, the Contractor will not receive the First Shipment Bonus. 2. &quot;First Freight Bonus Date&quot; is *** days prior to the Guaranteed Substantial Completion Date. 3. Subject to the terms of this Agreement (including Owner&#39;s withholding rights), amounts due to Contractor under this Section 13.2B shall be paid by Owner within thirty (30) days after Final Completion and Owner shall shall receive such first freight invoice. Bonus.\n",
      "  Article 13 Delay Damages and Bonuses 13.1 Delay Damages. If it occurs after the date of substantial completion on which substantial completion was guaranteed, Contractor shall pay the amount set forth in Exhibit T for each day or portion of the delay until substantial completion occurs. Shall be paid to the owner per day (“Late Damages”). 13.2 LNG Production Bonus and First Cargo Bonus A. LNG Production Bonus 1. If substantial completion occurs within *** (***) days from the date of assurance of substantial completion, the owner shall pay a bonus amount to the contractor. Will do. (i) *** (US$** *) to one of our customers before the LNG production bonus date. The maximum LNG production bonus payable to a contractor pursuant to this Section 13.2A shall be *** US Dollar (US$***). 2. “LNG Production Bonus Date” is *** (***) days after NTP issuance. 3. For the avoidance of doubt, Contractor shall not be entitled to LNG Production Bonuses on LNG that is boiled off or vaporized and sold to the U.S. market as natural gas. The LNG production bonus dates shall be adjusted solely at the discretion of Cheniere&#39;s Chief Executive Officer, and such adjustments shall be affected by change order. Contractor acknowledges that this Section 13.2A does not impose an obligation on Owner to sell LNG to the Customer. B. First Cargo Bonus 1. If the First Cargo occurs on or before the First Cargo Bonus Date, the Owner shall pay the Contractor a bonus of *** USD. Dollars (US$***) (“First Freight Bonus”). If the first shipment occurs after the First Freight Bonus Date but before the guaranteed Substantial Completion Date, the Owner shall pay the Contractor a First Freight Bonus of *** USD. Dollar (US$***) Minus *** US Dollars (US$***) per day after the first freight bonus day on which the first freight occurs. So, for example, if the first shipment occurs two days after the first shipment bonus date, the first shipment bonus is *** US Dollars (US$***), or if the first shipment occurs *** (***) Days after the first shipment bonus date, the first shipment bonus is *** US Dollar (US$***). If the First Shipment occurs after the Substantial Guaranteed Completion Date, the Contractor will not receive the First Shipment Bonus. 2. &quot;First Freight Bonus Date&quot; is *** days prior to the Guaranteed Substantial Completion Date. 3. Subject to the terms of this Agreement (including the Owner's withholding rights), amounts due to the Contractor under this Section 13.2B shall be paid by Owner within thirty (30) days after Final Completion and Owner shall shall receive such first freight invoice. Bonus.\n",
      "False\n"
     ]
    }
   ],
   "source": [
    "# from gingerit.gingerit import GingerIt\n",
    "# corrected_contexts = []\n",
    "# i = 0\n",
    "# for context in final_context:\n",
    "#     corrected = \"\"\n",
    "#     cont = sent_tokenize(context)\n",
    "#     for c in cont:\n",
    "#         if len(c.split()) < 100:\n",
    "#             text = GingerIt().parse(c)\n",
    "#             corrected += \" \" + text['result']\n",
    "#         else:\n",
    "#             continue\n",
    "#     corrected_contexts.append(corrected)\n",
    "#     i += 1\n",
    "#     print(i)\n",
    "print(final_context[3])\n",
    "print(corrected_contexts[3])"
   ]
  },
  {
   "cell_type": "code",
   "execution_count": null,
   "id": "5f0a28b8",
   "metadata": {},
   "outputs": [],
   "source": []
  }
 ],
 "metadata": {
  "kernelspec": {
   "display_name": "Python 3 (ipykernel)",
   "language": "python",
   "name": "python3"
  },
  "language_info": {
   "codemirror_mode": {
    "name": "ipython",
    "version": 3
   },
   "file_extension": ".py",
   "mimetype": "text/x-python",
   "name": "python",
   "nbconvert_exporter": "python",
   "pygments_lexer": "ipython3",
   "version": "3.10.9"
  }
 },
 "nbformat": 4,
 "nbformat_minor": 5
}
