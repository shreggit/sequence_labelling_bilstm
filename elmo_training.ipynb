{
 "cells": [
  {
   "cell_type": "code",
   "execution_count": 1,
   "id": "97d9265a",
   "metadata": {},
   "outputs": [],
   "source": [
    "import os\n",
    "import pandas as pd\n",
    "import pickle\n",
    "from collections import Counter\n",
    "import json\n",
    "import numpy as np\n",
    "from nltk.tokenize import sent_tokenize"
   ]
  },
  {
   "cell_type": "code",
   "execution_count": 2,
   "id": "2c28bc04",
   "metadata": {},
   "outputs": [],
   "source": [
    "with open('data/Defect Liability annotations.json', 'r', encoding='utf-8') as f:\n",
    "    lines = json.load(f)"
   ]
  },
  {
   "cell_type": "code",
   "execution_count": 4,
   "id": "b8f0469e",
   "metadata": {},
   "outputs": [],
   "source": [
    "sentences = []\n",
    "for line in lines:\n",
    "    data = line['data']\n",
    "    context = data['clause_text']\n",
    "    sent = sent_tokenize(context)\n",
    "    sentences.append(sent)"
   ]
  },
  {
   "cell_type": "code",
   "execution_count": 5,
   "id": "48cec594",
   "metadata": {},
   "outputs": [
    {
     "name": "stdout",
     "output_type": "stream",
     "text": [
      "128\n"
     ]
    }
   ],
   "source": [
    "print(len(sentences))"
   ]
  },
  {
   "cell_type": "code",
   "execution_count": 29,
   "id": "cd79c615",
   "metadata": {
    "scrolled": true
   },
   "outputs": [],
   "source": [
    "all_sentences = []\n",
    "for sents in sentences:\n",
    "    for sent in sents:\n",
    "        all_sentences.append(sent)"
   ]
  },
  {
   "cell_type": "code",
   "execution_count": 30,
   "id": "7038933a",
   "metadata": {},
   "outputs": [
    {
     "name": "stdout",
     "output_type": "stream",
     "text": [
      "30462\n"
     ]
    }
   ],
   "source": [
    "print(len(all_sentences))"
   ]
  },
  {
   "cell_type": "code",
   "execution_count": 47,
   "id": "dc3d1614",
   "metadata": {},
   "outputs": [],
   "source": [
    "for i in range(0,len(x_train_cleaned),6):\n",
    "    text = \"\\n\".join(x_train_cleaned[i:i+6])\n",
    "    fp = open(\"elmo/bilm-tf/train/\"+str(i)+\".txt\",\"w\", encoding='utf-8')\n",
    "    fp.write(text)\n",
    "    fp.close()"
   ]
  },
  {
   "cell_type": "code",
   "execution_count": 48,
   "id": "37b6311a",
   "metadata": {},
   "outputs": [],
   "source": [
    "for i in range(0,len(x_test_cleaned),6):\n",
    "    text = \"\\n\".join(x_test_cleaned[i:i+6])\n",
    "    fp = open(\"elmo/bilm-tf/validation/\"+str(i)+\"_val\"+\".txt\",\"w\", encoding='utf-8')\n",
    "    fp.write(text)\n",
    "    fp.close()"
   ]
  },
  {
   "cell_type": "code",
   "execution_count": 34,
   "id": "209b8204",
   "metadata": {},
   "outputs": [],
   "source": [
    "from sklearn.model_selection import train_test_split\n",
    "all_sentences = np.array(all_sentences)\n",
    "x_train, x_test = train_test_split(all_sentences, test_size = 0.2)"
   ]
  },
  {
   "cell_type": "code",
   "execution_count": 44,
   "id": "edbba449",
   "metadata": {},
   "outputs": [],
   "source": [
    "x_train_cleaned = []\n",
    "x_test_cleaned = []\n",
    "for x in x_train.tolist():\n",
    "    x_train_cleaned.append(x+\" .\")\n",
    "for y in x_test.tolist():\n",
    "    x_test_cleaned.append(y+\" .\")"
   ]
  },
  {
   "cell_type": "code",
   "execution_count": 43,
   "id": "63a7a2d5",
   "metadata": {},
   "outputs": [
    {
     "name": "stdout",
     "output_type": "stream",
     "text": [
      "The\n",
      "CONTRACTOR employee is not permitted to retain back-up copies of these. .\n"
     ]
    }
   ],
   "source": [
    "print(x_train_cleaned)"
   ]
  },
  {
   "cell_type": "code",
   "execution_count": 51,
   "id": "aaaa4c6a",
   "metadata": {},
   "outputs": [
    {
     "name": "stdout",
     "output_type": "stream",
     "text": [
      "Number of tokens in the Training data =  848668\n",
      "Size of Vocab 39519\n"
     ]
    }
   ],
   "source": [
    "#vocab files\n",
    "texts = \" \".join(x_train_cleaned)\n",
    "words = texts.split(\" \")\n",
    "print(\"Number of tokens in the Training data = \",len(words))\n",
    "dictionary = Counter(words)\n",
    "print(\"Size of Vocab\", len(dictionary))\n",
    "sorted_vocab = [\"<S>\", \"</S>\", \"<UNK>\"]\n",
    "sorted_vocab.extend([pair[0] for pair in dictionary.most_common()])\n",
    "text = \"\\n\".join(sorted_vocab)\n",
    "fp = open(\"elmo/bilm-tf/vocab/vocab.txt\", \"w\", encoding='utf-8')\n",
    "fp.write(text)\n",
    "fp.close()"
   ]
  },
  {
   "cell_type": "code",
   "execution_count": null,
   "id": "d989b757",
   "metadata": {},
   "outputs": [],
   "source": []
  }
 ],
 "metadata": {
  "kernelspec": {
   "display_name": "Python 3",
   "language": "python",
   "name": "python3"
  },
  "language_info": {
   "codemirror_mode": {
    "name": "ipython",
    "version": 3
   },
   "file_extension": ".py",
   "mimetype": "text/x-python",
   "name": "python",
   "nbconvert_exporter": "python",
   "pygments_lexer": "ipython3",
   "version": "3.6.13"
  }
 },
 "nbformat": 4,
 "nbformat_minor": 5
}
